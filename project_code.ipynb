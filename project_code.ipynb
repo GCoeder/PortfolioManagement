{
 "cells": [
  {
   "cell_type": "code",
   "execution_count": null,
   "id": "8459c3f3",
   "metadata": {},
   "outputs": [],
   "source": [
    "# Import libraries and dependencies\n",
    "import os\n",
    "import pandas as pd\n",
    "import alpaca_trade_api as tradeapi\n",
    "#from MCForecastTools import MCSimulation"
   ]
  },
  {
   "cell_type": "code",
   "execution_count": null,
   "id": "44e59ecb",
   "metadata": {},
   "outputs": [],
   "source": [
    "# Load .env enviroment variables\n",
    "from dotenv import load_dotenv\n",
    "load_dotenv()"
   ]
  },
  {
   "cell_type": "code",
   "execution_count": null,
   "id": "86fea07f",
   "metadata": {},
   "outputs": [],
   "source": [
    "# Set Alpaca API key and secret\n",
    "alpaca_api_key = os.getenv(\"ALPACA_API_KEY\")\n",
    "alpaca_secret_key = os.getenv(\"ALPACA_SECRET_KEY\")\n",
    "\n",
    "api = tradeapi.REST(\n",
    "    alpaca_api_key,\n",
    "    alpaca_secret_key,\n",
    "    api_version = \"v2\"\n",
    ")"
   ]
  },
  {
   "cell_type": "code",
   "execution_count": null,
   "id": "86c686e6",
   "metadata": {},
   "outputs": [],
   "source": [
    "# Set timeframe to '1D'\n",
    "timeframe = \"1D\"\n",
    "\n",
    "# Set start and end datetimes between now and 3 years ago.\n",
    "start_date = pd.Timestamp(\"2017-05-01\", tz=\"America/New_York\").isoformat()\n",
    "end_date = pd.Timestamp(\"2020-05-01\", tz=\"America/New_York\").isoformat()\n",
    "\n",
    "# Set the ticker information\n",
    "tickers = [\"AAPL, \"]\n",
    "\n",
    "# Get 3 year's worth of historical price data for Microsoft and Coca-Cola\n",
    "df_portfolio = api.get_barset(\n",
    "    tickers,\n",
    "    timeframe,\n",
    "    start=start_date,\n",
    "    end=end_date,\n",
    "    limit=1000,\n",
    ").df\n",
    "\n",
    "# Display sample data\n",
    "df_portfolio.head()"
   ]
  },
  {
   "cell_type": "code",
   "execution_count": null,
   "id": "34581fe2",
   "metadata": {},
   "outputs": [],
   "source": [
    "#Keep for fun - portfolio api call\n",
    "\n",
    "str_input= input(\"Input portfolio tickers here: \")\n",
    "\n",
    "def input_splice(string):\n",
    "    \"\"\"\n",
    "    docstring goes here\n",
    "    \"\"\"\n",
    "    tickers= str_input.split(\", \")\n",
    "    \n",
    "    print(tickers)\n",
    "\n",
    "input_splice(str_input)\n",
    "\n",
    "for ticker in tickers:\n",
    "    uri.append(f)"
   ]
  }
 ],
 "metadata": {
  "kernelspec": {
   "display_name": "Python [conda env:pyvizenv] *",
   "language": "python",
   "name": "conda-env-pyvizenv-py"
  },
  "language_info": {
   "codemirror_mode": {
    "name": "ipython",
    "version": 3
   },
   "file_extension": ".py",
   "mimetype": "text/x-python",
   "name": "python",
   "nbconvert_exporter": "python",
   "pygments_lexer": "ipython3",
   "version": "3.7.10"
  }
 },
 "nbformat": 4,
 "nbformat_minor": 5
}
