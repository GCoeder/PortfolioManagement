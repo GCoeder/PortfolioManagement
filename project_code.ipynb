{
 "cells": [
  {
   "cell_type": "code",
   "execution_count": 1,
   "id": "b32d415b",
   "metadata": {},
   "outputs": [],
   "source": [
    "# Import libraries and dependencies\n",
    "import os\n",
    "import pandas as pd\n",
    "import numpy as np\n",
    "import alpaca_trade_api as tradeapi\n",
    "import yfinance as yf\n",
    "\n",
    "#from MCForecastTools import MCSimulation"
   ]
  },
  {
   "cell_type": "code",
   "execution_count": 2,
   "id": "09331c8c",
   "metadata": {},
   "outputs": [
    {
     "data": {
      "text/plain": [
       "True"
      ]
     },
     "execution_count": 2,
     "metadata": {},
     "output_type": "execute_result"
    }
   ],
   "source": [
    "# Load .env enviroment variables\n",
    "from dotenv import load_dotenv\n",
    "load_dotenv()"
   ]
  },
  {
   "cell_type": "code",
   "execution_count": 3,
   "id": "5d3632b8",
   "metadata": {},
   "outputs": [],
   "source": [
    "#path equals etc... "
   ]
  },
  {
   "cell_type": "code",
   "execution_count": 4,
   "id": "f8d6f831",
   "metadata": {},
   "outputs": [],
   "source": [
    "# Set Alpaca API key and secret\n",
    "alpaca_api_key = os.getenv(\"ALPACA_API_KEY\")\n",
    "alpaca_secret_key = os.getenv(\"ALPACA_SECRET_KEY\")\n",
    "\n",
    "api = tradeapi.REST(\n",
    "    alpaca_api_key,\n",
    "    alpaca_secret_key,\n",
    "    api_version = \"v2\"\n",
    ")"
   ]
  },
  {
   "cell_type": "code",
   "execution_count": 5,
   "id": "1f80efb6",
   "metadata": {},
   "outputs": [
    {
     "data": {
      "text/html": [
       "<div>\n",
       "<style scoped>\n",
       "    .dataframe tbody tr th:only-of-type {\n",
       "        vertical-align: middle;\n",
       "    }\n",
       "\n",
       "    .dataframe tbody tr th {\n",
       "        vertical-align: top;\n",
       "    }\n",
       "\n",
       "    .dataframe thead tr th {\n",
       "        text-align: left;\n",
       "    }\n",
       "\n",
       "    .dataframe thead tr:last-of-type th {\n",
       "        text-align: right;\n",
       "    }\n",
       "</style>\n",
       "<table border=\"1\" class=\"dataframe\">\n",
       "  <thead>\n",
       "    <tr>\n",
       "      <th></th>\n",
       "      <th colspan=\"5\" halign=\"left\">AAPL</th>\n",
       "      <th colspan=\"5\" halign=\"left\">ARKK</th>\n",
       "      <th colspan=\"5\" halign=\"left\">QQQ</th>\n",
       "    </tr>\n",
       "    <tr>\n",
       "      <th></th>\n",
       "      <th>open</th>\n",
       "      <th>high</th>\n",
       "      <th>low</th>\n",
       "      <th>close</th>\n",
       "      <th>volume</th>\n",
       "      <th>open</th>\n",
       "      <th>high</th>\n",
       "      <th>low</th>\n",
       "      <th>close</th>\n",
       "      <th>volume</th>\n",
       "      <th>open</th>\n",
       "      <th>high</th>\n",
       "      <th>low</th>\n",
       "      <th>close</th>\n",
       "      <th>volume</th>\n",
       "    </tr>\n",
       "    <tr>\n",
       "      <th>time</th>\n",
       "      <th></th>\n",
       "      <th></th>\n",
       "      <th></th>\n",
       "      <th></th>\n",
       "      <th></th>\n",
       "      <th></th>\n",
       "      <th></th>\n",
       "      <th></th>\n",
       "      <th></th>\n",
       "      <th></th>\n",
       "      <th></th>\n",
       "      <th></th>\n",
       "      <th></th>\n",
       "      <th></th>\n",
       "      <th></th>\n",
       "    </tr>\n",
       "  </thead>\n",
       "  <tbody>\n",
       "    <tr>\n",
       "      <th>2017-05-01 00:00:00-04:00</th>\n",
       "      <td>145.10</td>\n",
       "      <td>147.20</td>\n",
       "      <td>144.96</td>\n",
       "      <td>146.56</td>\n",
       "      <td>25669350</td>\n",
       "      <td>25.48</td>\n",
       "      <td>25.7199</td>\n",
       "      <td>25.3504</td>\n",
       "      <td>25.7100</td>\n",
       "      <td>35949.0</td>\n",
       "      <td>135.05</td>\n",
       "      <td>135.96</td>\n",
       "      <td>134.97</td>\n",
       "      <td>135.73</td>\n",
       "      <td>17204770</td>\n",
       "    </tr>\n",
       "    <tr>\n",
       "      <th>2017-05-02 00:00:00-04:00</th>\n",
       "      <td>147.54</td>\n",
       "      <td>148.09</td>\n",
       "      <td>146.84</td>\n",
       "      <td>147.47</td>\n",
       "      <td>31308344</td>\n",
       "      <td>25.91</td>\n",
       "      <td>25.9100</td>\n",
       "      <td>25.5700</td>\n",
       "      <td>25.6699</td>\n",
       "      <td>21238.0</td>\n",
       "      <td>135.90</td>\n",
       "      <td>136.01</td>\n",
       "      <td>135.54</td>\n",
       "      <td>135.96</td>\n",
       "      <td>14449779</td>\n",
       "    </tr>\n",
       "    <tr>\n",
       "      <th>2017-05-03 00:00:00-04:00</th>\n",
       "      <td>145.59</td>\n",
       "      <td>147.49</td>\n",
       "      <td>144.27</td>\n",
       "      <td>147.06</td>\n",
       "      <td>38855247</td>\n",
       "      <td>25.75</td>\n",
       "      <td>25.7700</td>\n",
       "      <td>25.4500</td>\n",
       "      <td>25.6012</td>\n",
       "      <td>7956.0</td>\n",
       "      <td>135.68</td>\n",
       "      <td>135.71</td>\n",
       "      <td>135.16</td>\n",
       "      <td>135.53</td>\n",
       "      <td>15918064</td>\n",
       "    </tr>\n",
       "    <tr>\n",
       "      <th>2017-05-04 00:00:00-04:00</th>\n",
       "      <td>146.55</td>\n",
       "      <td>147.14</td>\n",
       "      <td>145.81</td>\n",
       "      <td>146.54</td>\n",
       "      <td>18926882</td>\n",
       "      <td>25.74</td>\n",
       "      <td>25.7400</td>\n",
       "      <td>25.4019</td>\n",
       "      <td>25.5000</td>\n",
       "      <td>13170.0</td>\n",
       "      <td>135.54</td>\n",
       "      <td>135.96</td>\n",
       "      <td>135.10</td>\n",
       "      <td>135.57</td>\n",
       "      <td>13641296</td>\n",
       "    </tr>\n",
       "    <tr>\n",
       "      <th>2017-05-05 00:00:00-04:00</th>\n",
       "      <td>146.76</td>\n",
       "      <td>148.98</td>\n",
       "      <td>146.76</td>\n",
       "      <td>148.96</td>\n",
       "      <td>22675122</td>\n",
       "      <td>25.77</td>\n",
       "      <td>25.7700</td>\n",
       "      <td>25.5000</td>\n",
       "      <td>25.7600</td>\n",
       "      <td>12850.0</td>\n",
       "      <td>135.92</td>\n",
       "      <td>136.07</td>\n",
       "      <td>135.42</td>\n",
       "      <td>136.07</td>\n",
       "      <td>12108993</td>\n",
       "    </tr>\n",
       "  </tbody>\n",
       "</table>\n",
       "</div>"
      ],
      "text/plain": [
       "                             AAPL                                     ARKK  \\\n",
       "                             open    high     low   close    volume   open   \n",
       "time                                                                         \n",
       "2017-05-01 00:00:00-04:00  145.10  147.20  144.96  146.56  25669350  25.48   \n",
       "2017-05-02 00:00:00-04:00  147.54  148.09  146.84  147.47  31308344  25.91   \n",
       "2017-05-03 00:00:00-04:00  145.59  147.49  144.27  147.06  38855247  25.75   \n",
       "2017-05-04 00:00:00-04:00  146.55  147.14  145.81  146.54  18926882  25.74   \n",
       "2017-05-05 00:00:00-04:00  146.76  148.98  146.76  148.96  22675122  25.77   \n",
       "\n",
       "                                                                  QQQ          \\\n",
       "                              high      low    close   volume    open    high   \n",
       "time                                                                            \n",
       "2017-05-01 00:00:00-04:00  25.7199  25.3504  25.7100  35949.0  135.05  135.96   \n",
       "2017-05-02 00:00:00-04:00  25.9100  25.5700  25.6699  21238.0  135.90  136.01   \n",
       "2017-05-03 00:00:00-04:00  25.7700  25.4500  25.6012   7956.0  135.68  135.71   \n",
       "2017-05-04 00:00:00-04:00  25.7400  25.4019  25.5000  13170.0  135.54  135.96   \n",
       "2017-05-05 00:00:00-04:00  25.7700  25.5000  25.7600  12850.0  135.92  136.07   \n",
       "\n",
       "                                                     \n",
       "                              low   close    volume  \n",
       "time                                                 \n",
       "2017-05-01 00:00:00-04:00  134.97  135.73  17204770  \n",
       "2017-05-02 00:00:00-04:00  135.54  135.96  14449779  \n",
       "2017-05-03 00:00:00-04:00  135.16  135.53  15918064  \n",
       "2017-05-04 00:00:00-04:00  135.10  135.57  13641296  \n",
       "2017-05-05 00:00:00-04:00  135.42  136.07  12108993  "
      ]
     },
     "execution_count": 5,
     "metadata": {},
     "output_type": "execute_result"
    }
   ],
   "source": [
    "# Set timeframe to '1D'\n",
    "timeframe = \"1D\"\n",
    "\n",
    "# Set start and end datetimes between now and 3 years ago.\n",
    "start_date = pd.Timestamp(\"2017-05-01\", tz=\"America/New_York\").isoformat()\n",
    "end_date = pd.Timestamp(\"2020-05-01\", tz=\"America/New_York\").isoformat()\n",
    "\n",
    "# Set the ticker information\n",
    "tickers = [\"AAPL\", \"QQQ\", \"ARKK\"]\n",
    "\n",
    "# Get 3 year's worth of historical price data for Microsoft and Coca-Cola\n",
    "df_portfolio = api.get_barset(\n",
    "    tickers,\n",
    "    timeframe,\n",
    "    start=start_date,\n",
    "    end=end_date,\n",
    "    limit=1000,\n",
    ").df\n",
    "\n",
    "# Display sample data\n",
    "df_portfolio.head()"
   ]
  },
  {
   "cell_type": "code",
   "execution_count": 6,
   "id": "60fda25d",
   "metadata": {},
   "outputs": [],
   "source": [
    "#df_portfolio.drop(columns=['open', 'high', 'low', 'volume'], inplace=True)\n",
    "port_data = pd.DataFrame()\n",
    "\n",
    "for c in df_portfolio.columns:\n",
    "    if c[1] in \"close\":\n",
    "        port_data[c[0]] = df_portfolio[c[0]][c[1]]"
   ]
  },
  {
   "cell_type": "code",
   "execution_count": 7,
   "id": "f0dd0f5a",
   "metadata": {},
   "outputs": [
    {
     "data": {
      "text/html": [
       "<div>\n",
       "<style scoped>\n",
       "    .dataframe tbody tr th:only-of-type {\n",
       "        vertical-align: middle;\n",
       "    }\n",
       "\n",
       "    .dataframe tbody tr th {\n",
       "        vertical-align: top;\n",
       "    }\n",
       "\n",
       "    .dataframe thead th {\n",
       "        text-align: right;\n",
       "    }\n",
       "</style>\n",
       "<table border=\"1\" class=\"dataframe\">\n",
       "  <thead>\n",
       "    <tr style=\"text-align: right;\">\n",
       "      <th></th>\n",
       "      <th>AAPL</th>\n",
       "      <th>ARKK</th>\n",
       "      <th>QQQ</th>\n",
       "    </tr>\n",
       "    <tr>\n",
       "      <th>time</th>\n",
       "      <th></th>\n",
       "      <th></th>\n",
       "      <th></th>\n",
       "    </tr>\n",
       "  </thead>\n",
       "  <tbody>\n",
       "    <tr>\n",
       "      <th>2017-05-02 00:00:00-04:00</th>\n",
       "      <td>0.006209</td>\n",
       "      <td>-0.001560</td>\n",
       "      <td>0.001695</td>\n",
       "    </tr>\n",
       "    <tr>\n",
       "      <th>2017-05-03 00:00:00-04:00</th>\n",
       "      <td>-0.002780</td>\n",
       "      <td>-0.002676</td>\n",
       "      <td>-0.003163</td>\n",
       "    </tr>\n",
       "    <tr>\n",
       "      <th>2017-05-04 00:00:00-04:00</th>\n",
       "      <td>-0.003536</td>\n",
       "      <td>-0.003953</td>\n",
       "      <td>0.000295</td>\n",
       "    </tr>\n",
       "    <tr>\n",
       "      <th>2017-05-05 00:00:00-04:00</th>\n",
       "      <td>0.016514</td>\n",
       "      <td>0.010196</td>\n",
       "      <td>0.003688</td>\n",
       "    </tr>\n",
       "    <tr>\n",
       "      <th>2017-05-08 00:00:00-04:00</th>\n",
       "      <td>0.027189</td>\n",
       "      <td>-0.001203</td>\n",
       "      <td>0.002205</td>\n",
       "    </tr>\n",
       "  </tbody>\n",
       "</table>\n",
       "</div>"
      ],
      "text/plain": [
       "                               AAPL      ARKK       QQQ\n",
       "time                                                   \n",
       "2017-05-02 00:00:00-04:00  0.006209 -0.001560  0.001695\n",
       "2017-05-03 00:00:00-04:00 -0.002780 -0.002676 -0.003163\n",
       "2017-05-04 00:00:00-04:00 -0.003536 -0.003953  0.000295\n",
       "2017-05-05 00:00:00-04:00  0.016514  0.010196  0.003688\n",
       "2017-05-08 00:00:00-04:00  0.027189 -0.001203  0.002205"
      ]
     },
     "execution_count": 7,
     "metadata": {},
     "output_type": "execute_result"
    }
   ],
   "source": [
    "#find the daily returns of each stock in the portfolio\n",
    "port_data= port_data.pct_change()\n",
    "port_data= port_data.dropna()\n",
    "\n",
    "port_data.head()"
   ]
  },
  {
   "cell_type": "code",
   "execution_count": 8,
   "id": "0cc6888a",
   "metadata": {},
   "outputs": [
    {
     "data": {
      "text/plain": [
       "time\n",
       "2017-05-02 00:00:00-04:00    1.002115\n",
       "2017-05-03 00:00:00-04:00    0.999235\n",
       "2017-05-04 00:00:00-04:00    0.996839\n",
       "2017-05-05 00:00:00-04:00    1.006940\n",
       "2017-05-08 00:00:00-04:00    1.016402\n",
       "dtype: float64"
      ]
     },
     "execution_count": 8,
     "metadata": {},
     "output_type": "execute_result"
    }
   ],
   "source": [
    "#concat the portfolio into total returns\n",
    "weights=[1/3, 1/3, 1/3]\n",
    "weighted_return= (weights * port_data)\n",
    "portfolio_return = weighted_return.sum(axis=1)\n",
    "portfolio_return.head()\n",
    "cumprod_port= (1 + portfolio_return).cumprod()\n",
    "cumprod_port.head()"
   ]
  },
  {
   "cell_type": "code",
   "execution_count": 9,
   "id": "8e5ab4a9",
   "metadata": {},
   "outputs": [
    {
     "data": {
      "text/plain": [
       "<matplotlib.axes._subplots.AxesSubplot at 0x7fef88f37890>"
      ]
     },
     "execution_count": 9,
     "metadata": {},
     "output_type": "execute_result"
    },
    {
     "data": {
      "image/png": "[encoded data removed]",
      "text/plain": [
       "<Figure size 1440x720 with 1 Axes>"
      ]
     },
     "metadata": {
      "needs_background": "light"
     },
     "output_type": "display_data"
    }
   ],
   "source": [
    "#plot portfolio returns\n",
    "cumprod_port.plot(figsize=(20, 10), title=\"Cumulative Returns\")"
   ]
  },
  {
   "cell_type": "code",
   "execution_count": 10,
   "id": "d0eb5b3b",
   "metadata": {},
   "outputs": [],
   "source": [
    "#Add the ETF Data\n",
    "#correlate to ETF data\n",
    "#add 11 industry ETFs\n"
   ]
  },
  {
   "cell_type": "code",
   "execution_count": 11,
   "id": "8b8f86d9",
   "metadata": {},
   "outputs": [],
   "source": [
    "#quandl.get_table('SHARADAR/SFP', ticker='AADR')"
   ]
  },
  {
   "cell_type": "code",
   "execution_count": 12,
   "id": "2d0a6115",
   "metadata": {},
   "outputs": [],
   "source": [
    "#pip install yfinance"
   ]
  },
  {
   "cell_type": "code",
   "execution_count": 13,
   "id": "77193127",
   "metadata": {},
   "outputs": [
    {
     "data": {
      "text/plain": [
       "'tech_etf = yf.Ticker(\"XLK\")\\n\\n# get stock info\\ntech_etf.info\\n\\n# get historical market data\\nhist = tech_etf.history(period=\"max\")\\nhist.to_csv(\"XLK.csv\")\\n'"
      ]
     },
     "execution_count": 13,
     "metadata": {},
     "output_type": "execute_result"
    }
   ],
   "source": [
    "\"\"\"tech_etf = yf.Ticker(\"XLK\")\n",
    "\n",
    "# get stock info\n",
    "tech_etf.info\n",
    "\n",
    "# get historical market data\n",
    "hist = tech_etf.history(period=\"max\")\n",
    "hist.to_csv(\"XLK.csv\")\n",
    "\"\"\""
   ]
  },
  {
   "cell_type": "code",
   "execution_count": 14,
   "id": "10f5503d",
   "metadata": {},
   "outputs": [],
   "source": [
    "#hist.to_csv(\"XLK.csv\")"
   ]
  },
  {
   "cell_type": "code",
   "execution_count": 15,
   "id": "36377763",
   "metadata": {},
   "outputs": [
    {
     "data": {
      "text/plain": [
       "'health_etf = yf.Ticker(\"XLV\")\\n\\n# get stock info\\nhealth_etf.info\\n\\n# get historical market data\\nhist = health_etf.history(period=\"max\")\\nhist.to_csv(\"XLV.csv\")\\n'"
      ]
     },
     "execution_count": 15,
     "metadata": {},
     "output_type": "execute_result"
    }
   ],
   "source": [
    "\"\"\"health_etf = yf.Ticker(\"XLV\")\n",
    "\n",
    "# get stock info\n",
    "health_etf.info\n",
    "\n",
    "# get historical market data\n",
    "hist = health_etf.history(period=\"max\")\n",
    "hist.to_csv(\"XLV.csv\")\n",
    "\"\"\""
   ]
  },
  {
   "cell_type": "code",
   "execution_count": 16,
   "id": "901ec210",
   "metadata": {},
   "outputs": [
    {
     "data": {
      "text/plain": [
       "'\\nfinancial_etf = yf.Ticker(\"XLF\")\\n\\n# get stock info\\nfinancial_etf.info\\n\\n# get historical market data\\nhist = financial_etf.history(period=\"max\")\\nhist.to_csv(\"XLF.csv\")\\n'"
      ]
     },
     "execution_count": 16,
     "metadata": {},
     "output_type": "execute_result"
    }
   ],
   "source": [
    "\"\"\"\n",
    "financial_etf = yf.Ticker(\"XLF\")\n",
    "\n",
    "# get stock info\n",
    "financial_etf.info\n",
    "\n",
    "# get historical market data\n",
    "hist = financial_etf.history(period=\"max\")\n",
    "hist.to_csv(\"XLF.csv\")\n",
    "\"\"\""
   ]
  },
  {
   "cell_type": "code",
   "execution_count": 17,
   "id": "82a74327",
   "metadata": {},
   "outputs": [
    {
     "data": {
      "text/plain": [
       "'\\nreal_estate_etf = yf.Ticker(\"XLRE\")\\n\\n# get stock info\\nreal_estate_etf.info\\n\\n# get historical market data\\nhist = real_estate_etf.history(period=\"max\")\\nhist.to_csv(\"XLRE.csv\")\\n'"
      ]
     },
     "execution_count": 17,
     "metadata": {},
     "output_type": "execute_result"
    }
   ],
   "source": [
    "\"\"\"\n",
    "real_estate_etf = yf.Ticker(\"XLRE\")\n",
    "\n",
    "# get stock info\n",
    "real_estate_etf.info\n",
    "\n",
    "# get historical market data\n",
    "hist = real_estate_etf.history(period=\"max\")\n",
    "hist.to_csv(\"XLRE.csv\")\n",
    "\"\"\"\n"
   ]
  },
  {
   "cell_type": "code",
   "execution_count": 18,
   "id": "0d240fab",
   "metadata": {},
   "outputs": [
    {
     "data": {
      "text/plain": [
       "'\\nenergy_etf = yf.Ticker(\"XLE\")\\n\\n# get stock info\\nenergy_etf.info\\n\\n# get historical market data\\nhist = energy_etf.history(period=\"max\")\\nhist.to_csv(\"XLE.csv\")\\n'"
      ]
     },
     "execution_count": 18,
     "metadata": {},
     "output_type": "execute_result"
    }
   ],
   "source": [
    "\"\"\"\n",
    "energy_etf = yf.Ticker(\"XLE\")\n",
    "\n",
    "# get stock info\n",
    "energy_etf.info\n",
    "\n",
    "# get historical market data\n",
    "hist = energy_etf.history(period=\"max\")\n",
    "hist.to_csv(\"XLE.csv\")\n",
    "\"\"\""
   ]
  },
  {
   "cell_type": "code",
   "execution_count": 19,
   "id": "f5644be6",
   "metadata": {},
   "outputs": [
    {
     "data": {
      "text/plain": [
       "'\\nmaterials_etf = yf.Ticker(\"XLB\")\\n\\n# get stock info\\nmaterials_etf.info\\n\\n# get historical market data\\nhist = materials_etf.history(period=\"max\")\\nhist.to_csv(\"XLB.csv\")\\n'"
      ]
     },
     "execution_count": 19,
     "metadata": {},
     "output_type": "execute_result"
    }
   ],
   "source": [
    "\"\"\"\n",
    "materials_etf = yf.Ticker(\"XLB\")\n",
    "\n",
    "# get stock info\n",
    "materials_etf.info\n",
    "\n",
    "# get historical market data\n",
    "hist = materials_etf.history(period=\"max\")\n",
    "hist.to_csv(\"XLB.csv\")\n",
    "\"\"\""
   ]
  },
  {
   "cell_type": "code",
   "execution_count": 20,
   "id": "24ae10e4",
   "metadata": {},
   "outputs": [
    {
     "data": {
      "text/plain": [
       "'\\ncons_disc_etf = yf.Ticker(\"XLY\")\\n\\n# get stock info\\ncons_disc_etf.info\\n\\n# get historical market data\\nhist = cons_disc_etf.history(period=\"max\")\\nhist.to_csv(\"XLY.csv\")\\n'"
      ]
     },
     "execution_count": 20,
     "metadata": {},
     "output_type": "execute_result"
    }
   ],
   "source": [
    "\"\"\"\n",
    "cons_disc_etf = yf.Ticker(\"XLY\")\n",
    "\n",
    "# get stock info\n",
    "cons_disc_etf.info\n",
    "\n",
    "# get historical market data\n",
    "hist = cons_disc_etf.history(period=\"max\")\n",
    "hist.to_csv(\"XLY.csv\")\n",
    "\"\"\""
   ]
  },
  {
   "cell_type": "code",
   "execution_count": 21,
   "id": "f1365c08",
   "metadata": {},
   "outputs": [
    {
     "data": {
      "text/plain": [
       "'\\nindustrials_etf = yf.Ticker(\"XLI\")\\n\\n# get stock info\\nindustrials_etf.info\\n\\n# get historical market data\\nhist = industrials_etf.history(period=\"max\")\\nhist.to_csv(\"XLI.csv\")\\n'"
      ]
     },
     "execution_count": 21,
     "metadata": {},
     "output_type": "execute_result"
    }
   ],
   "source": [
    "\"\"\"\n",
    "industrials_etf = yf.Ticker(\"XLI\")\n",
    "\n",
    "# get stock info\n",
    "industrials_etf.info\n",
    "\n",
    "# get historical market data\n",
    "hist = industrials_etf.history(period=\"max\")\n",
    "hist.to_csv(\"XLI.csv\")\n",
    "\"\"\""
   ]
  },
  {
   "cell_type": "code",
   "execution_count": 22,
   "id": "8715ba0e",
   "metadata": {},
   "outputs": [
    {
     "data": {
      "text/plain": [
       "'\\nutilities_etf = yf.Ticker(\"XLU\")\\n\\n# get stock info\\nutilities_etf.info\\n\\n# get historical market data\\nhist = utilities_etf.history(period=\"max\")\\nhist.to_csv(\"XLU.csv\")\\n'"
      ]
     },
     "execution_count": 22,
     "metadata": {},
     "output_type": "execute_result"
    }
   ],
   "source": [
    "\"\"\"\n",
    "utilities_etf = yf.Ticker(\"XLU\")\n",
    "\n",
    "# get stock info\n",
    "utilities_etf.info\n",
    "\n",
    "# get historical market data\n",
    "hist = utilities_etf.history(period=\"max\")\n",
    "hist.to_csv(\"XLU.csv\")\n",
    "\"\"\""
   ]
  },
  {
   "cell_type": "code",
   "execution_count": 23,
   "id": "88fe50a6",
   "metadata": {},
   "outputs": [
    {
     "data": {
      "text/plain": [
       "'\\ncons_staple_etf = yf.Ticker(\"XLP\")\\n\\n# get stock info\\ncons_staple_etf.info\\n\\n# get historical market data\\nhist = cons_staple_etf.history(period=\"max\")\\nhist.to_csv(\"XLP.csv\")\\n'"
      ]
     },
     "execution_count": 23,
     "metadata": {},
     "output_type": "execute_result"
    }
   ],
   "source": [
    "\"\"\"\n",
    "cons_staple_etf = yf.Ticker(\"XLP\")\n",
    "\n",
    "# get stock info\n",
    "cons_staple_etf.info\n",
    "\n",
    "# get historical market data\n",
    "hist = cons_staple_etf.history(period=\"max\")\n",
    "hist.to_csv(\"XLP.csv\")\n",
    "\"\"\""
   ]
  },
  {
   "cell_type": "code",
   "execution_count": 24,
   "id": "fd3dc67b",
   "metadata": {},
   "outputs": [
    {
     "data": {
      "text/plain": [
       "'\\ncons_staple_etf = yf.Ticker(\"XLP\")\\n\\n# get stock info\\ncons_staple_etf.info\\n\\n# get historical market data\\nhist = cons_staple_etf.history(period=\"max\")\\nhist.to_csv(\"XLP.csv\")\\n'"
      ]
     },
     "execution_count": 24,
     "metadata": {},
     "output_type": "execute_result"
    }
   ],
   "source": [
    "\"\"\"\n",
    "cons_staple_etf = yf.Ticker(\"XLP\")\n",
    "\n",
    "# get stock info\n",
    "cons_staple_etf.info\n",
    "\n",
    "# get historical market data\n",
    "hist = cons_staple_etf.history(period=\"max\")\n",
    "hist.to_csv(\"XLP.csv\")\n",
    "\"\"\""
   ]
  },
  {
   "cell_type": "code",
   "execution_count": 25,
   "id": "177abebd",
   "metadata": {},
   "outputs": [
    {
     "data": {
      "text/plain": [
       "'\\ntelecom_etf = yf.Ticker(\"XLC\")\\n\\n# get stock info\\ntelecom_etf.info\\n\\n# get historical market data\\nhist = telecom_etf.history(period=\"max\")\\nhist.to_csv(\"XLC.csv\")\\n'"
      ]
     },
     "execution_count": 25,
     "metadata": {},
     "output_type": "execute_result"
    }
   ],
   "source": [
    "\"\"\"\n",
    "telecom_etf = yf.Ticker(\"XLC\")\n",
    "\n",
    "# get stock info\n",
    "telecom_etf.info\n",
    "\n",
    "# get historical market data\n",
    "hist = telecom_etf.history(period=\"max\")\n",
    "hist.to_csv(\"XLC.csv\")\n",
    "\"\"\""
   ]
  },
  {
   "cell_type": "code",
   "execution_count": null,
   "id": "bd2662f2",
   "metadata": {},
   "outputs": [],
   "source": []
  }
 ],
 "metadata": {
  "kernelspec": {
   "display_name": "Python [conda env:pyvizenv] *",
   "language": "python",
   "name": "conda-env-pyvizenv-py"
  },
  "language_info": {
   "codemirror_mode": {
    "name": "ipython",
    "version": 3
   },
   "file_extension": ".py",
   "mimetype": "text/x-python",
   "name": "python",
   "nbconvert_exporter": "python",
   "pygments_lexer": "ipython3",
   "version": "3.7.10"
  }
 },
 "nbformat": 4,
 "nbformat_minor": 5
}
